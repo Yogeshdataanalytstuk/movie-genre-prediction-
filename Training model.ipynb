{
 "cells": [
  {
   "cell_type": "code",
   "execution_count": 1,
   "id": "2134f8f4",
   "metadata": {},
   "outputs": [],
   "source": [
    "import pandas as pd\n",
    "import ast\n",
    "from sklearn.feature_extraction.text import TfidfVectorizer\n",
    "from sklearn.preprocessing import MultiLabelBinarizer\n",
    "from sklearn.ensemble import RandomForestClassifier\n",
    "import numpy as np\n",
    "import pickle\n",
    "\n",
    "data = pd.read_csv('metadata.csv', low_memory=False)\n",
    "f=data['genres']\n",
    "data = data.dropna(axis=0, subset=['genres'])\n",
    "\n",
    "lst=list()\n",
    "data['genres'] = data['genres'].apply(lambda x: ast.literal_eval(x) if pd.notnull(x) else [])\n",
    "data['new']=data['genres']\n",
    "\n",
    "def eng(x):\n",
    "    llsst=[]\n",
    "    for i in x:\n",
    "        for j in i:\n",
    "            if j=='name':\n",
    "                llsst.append(i[j])\n",
    "    return llsst\n",
    "\n",
    "\n",
    "data['new']=data['genres'].apply(lambda x: eng(x))\n",
    "data['full_text'] = data['original_title'] + \"_\" + data['overview']\n",
    "newdata=pd.DataFrame()\n",
    "newdata['full_text']=data['full_text']\n",
    "newdata['new']=data['new']\n",
    "\n",
    "newdata['lenth']=newdata['new'].str.len()\n",
    "\n",
    "import pandas as pd\n",
    "\n",
    "df = pd.DataFrame(newdata)\n",
    "\n",
    "dummies = df['new'].apply(lambda x: pd.Series([1] * len(x), index=x)).fillna(0)\n",
    "\n",
    "# Concatenate the dummy variables with the original DataFrame\n",
    "df_with_dummies = pd.concat([df, dummies], axis=1)\n",
    "\n",
    "# Drop the original 'lists' column if needed\n",
    "df_with_dummies = df_with_dummies.drop(columns=['new'])\n",
    "\n",
    "df_with_dummies['new']=data['new']\n",
    "\n",
    "df_with_dummies.dropna(subset = ['full_text'], inplace=True)\n",
    "from sklearn.model_selection import train_test_split\n",
    "#df_with_dummies=df_with_dummies[:200]\n",
    "x = df_with_dummies['full_text']\n",
    "y=df_with_dummies['new']\n"
   ]
  },
  {
   "cell_type": "code",
   "execution_count": 2,
   "id": "44dc8f41",
   "metadata": {},
   "outputs": [],
   "source": [
    "#model initial and parameter fixing\n",
    "tfidf_vectorizer = TfidfVectorizer(max_features=5000, stop_words='english')\n",
    "mlb = MultiLabelBinarizer()\n",
    "rf_classifier = RandomForestClassifier(n_estimators=5000)\n",
    "\n",
    "X = tfidf_vectorizer.fit_transform(x).toarray()\n",
    "Y = mlb.fit_transform(y)\n",
    "shape=list(X.shape)\n",
    "\n",
    "with open('tfidf_vectorizer.pkl', 'wb') as vectorizer_file:\n",
    "    pickle.dump(tfidf_vectorizer, vectorizer_file)\n",
    "with open('mlb.pkl', 'wb') as mlb_file:\n",
    "    pickle.dump(mlb, mlb_file)"
   ]
  },
  {
   "cell_type": "code",
   "execution_count": 3,
   "id": "29f1ede1",
   "metadata": {},
   "outputs": [
    {
     "name": "stdout",
     "output_type": "stream",
     "text": [
      "400\n",
      "600\n",
      "800\n",
      "1000\n",
      "1200\n",
      "1400\n",
      "1600\n",
      "1800\n",
      "2000\n",
      "2200\n",
      "2400\n",
      "2600\n",
      "2800\n",
      "3000\n",
      "3200\n",
      "3400\n",
      "3600\n",
      "3800\n",
      "4000\n",
      "4200\n",
      "4400\n",
      "4600\n",
      "4800\n",
      "5000\n",
      "5200\n",
      "5400\n",
      "5600\n",
      "5800\n",
      "6000\n",
      "6200\n",
      "6400\n",
      "6600\n",
      "6800\n",
      "7000\n",
      "7200\n",
      "7400\n",
      "7600\n",
      "7800\n",
      "8000\n",
      "8200\n",
      "8400\n",
      "8600\n",
      "8800\n",
      "9000\n",
      "9200\n",
      "9400\n",
      "9600\n",
      "9800\n",
      "10000\n",
      "10200\n",
      "10400\n",
      "10600\n",
      "10800\n",
      "11000\n",
      "11200\n",
      "11400\n",
      "11600\n",
      "11800\n",
      "12000\n",
      "12200\n",
      "12400\n",
      "12600\n",
      "12800\n",
      "13000\n",
      "13200\n",
      "13400\n",
      "13600\n",
      "13800\n",
      "14000\n",
      "14200\n",
      "14400\n",
      "14600\n",
      "14800\n",
      "15000\n",
      "15200\n",
      "15400\n",
      "15600\n",
      "15800\n",
      "16000\n",
      "16200\n",
      "16400\n",
      "16600\n",
      "16800\n",
      "17000\n",
      "17200\n",
      "17400\n",
      "17600\n",
      "17800\n",
      "18000\n",
      "18200\n",
      "18400\n",
      "18600\n",
      "18800\n",
      "19000\n",
      "19200\n",
      "19400\n",
      "19600\n",
      "19800\n",
      "20000\n",
      "20200\n",
      "20400\n",
      "20600\n",
      "20800\n",
      "21000\n",
      "21200\n",
      "21400\n",
      "21600\n",
      "21800\n",
      "22000\n",
      "22200\n",
      "22400\n",
      "22600\n",
      "22800\n",
      "23000\n",
      "23200\n",
      "23400\n",
      "23600\n",
      "23800\n",
      "24000\n",
      "24200\n",
      "24400\n",
      "24600\n",
      "24800\n",
      "25000\n",
      "25200\n",
      "25400\n",
      "25600\n",
      "25800\n",
      "26000\n",
      "26200\n",
      "26400\n",
      "26600\n",
      "26800\n",
      "27000\n",
      "27200\n",
      "27400\n",
      "27600\n",
      "27800\n",
      "28000\n",
      "28200\n",
      "28400\n",
      "28600\n",
      "28800\n",
      "29000\n",
      "29200\n",
      "29400\n",
      "29600\n",
      "29800\n",
      "30000\n",
      "30200\n",
      "30400\n",
      "30600\n",
      "30800\n",
      "31000\n",
      "31200\n",
      "31400\n",
      "31600\n",
      "31800\n",
      "32000\n",
      "32200\n",
      "32400\n",
      "32600\n",
      "32800\n",
      "33000\n",
      "33200\n",
      "33400\n",
      "33600\n",
      "33800\n",
      "34000\n",
      "34200\n",
      "34400\n",
      "34600\n",
      "34800\n",
      "35000\n",
      "35200\n",
      "35400\n",
      "35600\n",
      "35800\n",
      "36000\n",
      "36200\n",
      "36400\n",
      "36600\n",
      "36800\n",
      "37000\n",
      "37200\n",
      "37400\n",
      "37600\n",
      "37800\n",
      "38000\n",
      "38200\n",
      "38400\n",
      "38600\n",
      "38800\n",
      "39000\n",
      "39200\n",
      "39400\n",
      "39600\n",
      "39800\n",
      "40000\n",
      "40200\n",
      "40400\n",
      "40600\n",
      "40800\n",
      "41000\n",
      "41200\n",
      "41400\n",
      "41600\n",
      "41800\n",
      "42000\n",
      "42200\n",
      "42400\n",
      "42600\n",
      "42800\n",
      "43000\n",
      "43200\n",
      "43400\n",
      "43600\n",
      "43800\n",
      "44000\n",
      "44200\n",
      "44400\n",
      "44600\n"
     ]
    }
   ],
   "source": [
    "j=200\n",
    "i=0\n",
    "while j<shape[0]:\n",
    "    text_data = X[i:j]\n",
    "    labels = Y[i:j]\n",
    "    rf_classifier.fit(text_data, labels)\n",
    "    i=j\n",
    "    j+=200\n",
    "    print(j)"
   ]
  },
  {
   "cell_type": "code",
   "execution_count": null,
   "id": "614473b8",
   "metadata": {},
   "outputs": [],
   "source": []
  },
  {
   "cell_type": "code",
   "execution_count": 5,
   "id": "1098edf3",
   "metadata": {},
   "outputs": [
    {
     "data": {
      "text/html": [
       "<style>#sk-container-id-1 {color: black;}#sk-container-id-1 pre{padding: 0;}#sk-container-id-1 div.sk-toggleable {background-color: white;}#sk-container-id-1 label.sk-toggleable__label {cursor: pointer;display: block;width: 100%;margin-bottom: 0;padding: 0.3em;box-sizing: border-box;text-align: center;}#sk-container-id-1 label.sk-toggleable__label-arrow:before {content: \"▸\";float: left;margin-right: 0.25em;color: #696969;}#sk-container-id-1 label.sk-toggleable__label-arrow:hover:before {color: black;}#sk-container-id-1 div.sk-estimator:hover label.sk-toggleable__label-arrow:before {color: black;}#sk-container-id-1 div.sk-toggleable__content {max-height: 0;max-width: 0;overflow: hidden;text-align: left;background-color: #f0f8ff;}#sk-container-id-1 div.sk-toggleable__content pre {margin: 0.2em;color: black;border-radius: 0.25em;background-color: #f0f8ff;}#sk-container-id-1 input.sk-toggleable__control:checked~div.sk-toggleable__content {max-height: 200px;max-width: 100%;overflow: auto;}#sk-container-id-1 input.sk-toggleable__control:checked~label.sk-toggleable__label-arrow:before {content: \"▾\";}#sk-container-id-1 div.sk-estimator input.sk-toggleable__control:checked~label.sk-toggleable__label {background-color: #d4ebff;}#sk-container-id-1 div.sk-label input.sk-toggleable__control:checked~label.sk-toggleable__label {background-color: #d4ebff;}#sk-container-id-1 input.sk-hidden--visually {border: 0;clip: rect(1px 1px 1px 1px);clip: rect(1px, 1px, 1px, 1px);height: 1px;margin: -1px;overflow: hidden;padding: 0;position: absolute;width: 1px;}#sk-container-id-1 div.sk-estimator {font-family: monospace;background-color: #f0f8ff;border: 1px dotted black;border-radius: 0.25em;box-sizing: border-box;margin-bottom: 0.5em;}#sk-container-id-1 div.sk-estimator:hover {background-color: #d4ebff;}#sk-container-id-1 div.sk-parallel-item::after {content: \"\";width: 100%;border-bottom: 1px solid gray;flex-grow: 1;}#sk-container-id-1 div.sk-label:hover label.sk-toggleable__label {background-color: #d4ebff;}#sk-container-id-1 div.sk-serial::before {content: \"\";position: absolute;border-left: 1px solid gray;box-sizing: border-box;top: 0;bottom: 0;left: 50%;z-index: 0;}#sk-container-id-1 div.sk-serial {display: flex;flex-direction: column;align-items: center;background-color: white;padding-right: 0.2em;padding-left: 0.2em;position: relative;}#sk-container-id-1 div.sk-item {position: relative;z-index: 1;}#sk-container-id-1 div.sk-parallel {display: flex;align-items: stretch;justify-content: center;background-color: white;position: relative;}#sk-container-id-1 div.sk-item::before, #sk-container-id-1 div.sk-parallel-item::before {content: \"\";position: absolute;border-left: 1px solid gray;box-sizing: border-box;top: 0;bottom: 0;left: 50%;z-index: -1;}#sk-container-id-1 div.sk-parallel-item {display: flex;flex-direction: column;z-index: 1;position: relative;background-color: white;}#sk-container-id-1 div.sk-parallel-item:first-child::after {align-self: flex-end;width: 50%;}#sk-container-id-1 div.sk-parallel-item:last-child::after {align-self: flex-start;width: 50%;}#sk-container-id-1 div.sk-parallel-item:only-child::after {width: 0;}#sk-container-id-1 div.sk-dashed-wrapped {border: 1px dashed gray;margin: 0 0.4em 0.5em 0.4em;box-sizing: border-box;padding-bottom: 0.4em;background-color: white;}#sk-container-id-1 div.sk-label label {font-family: monospace;font-weight: bold;display: inline-block;line-height: 1.2em;}#sk-container-id-1 div.sk-label-container {text-align: center;}#sk-container-id-1 div.sk-container {/* jupyter's `normalize.less` sets `[hidden] { display: none; }` but bootstrap.min.css set `[hidden] { display: none !important; }` so we also need the `!important` here to be able to override the default hidden behavior on the sphinx rendered scikit-learn.org. See: https://github.com/scikit-learn/scikit-learn/issues/21755 */display: inline-block !important;position: relative;}#sk-container-id-1 div.sk-text-repr-fallback {display: none;}</style><div id=\"sk-container-id-1\" class=\"sk-top-container\"><div class=\"sk-text-repr-fallback\"><pre>RandomForestClassifier(n_estimators=5000)</pre><b>In a Jupyter environment, please rerun this cell to show the HTML representation or trust the notebook. <br />On GitHub, the HTML representation is unable to render, please try loading this page with nbviewer.org.</b></div><div class=\"sk-container\" hidden><div class=\"sk-item\"><div class=\"sk-estimator sk-toggleable\"><input class=\"sk-toggleable__control sk-hidden--visually\" id=\"sk-estimator-id-1\" type=\"checkbox\" checked><label for=\"sk-estimator-id-1\" class=\"sk-toggleable__label sk-toggleable__label-arrow\">RandomForestClassifier</label><div class=\"sk-toggleable__content\"><pre>RandomForestClassifier(n_estimators=5000)</pre></div></div></div></div></div>"
      ],
      "text/plain": [
       "RandomForestClassifier(n_estimators=5000)"
      ]
     },
     "execution_count": 5,
     "metadata": {},
     "output_type": "execute_result"
    }
   ],
   "source": [
    "text_data = X[i:shape[0]]\n",
    "labels = Y[i:shape[0]]\n",
    "rf_classifier.fit(text_data, labels)"
   ]
  },
  {
   "cell_type": "code",
   "execution_count": 6,
   "id": "07bd5700",
   "metadata": {},
   "outputs": [],
   "source": [
    "with open('random_forest_classifier.pkl', 'wb') as classifier_file:\n",
    "    pickle.dump(rf_classifier, classifier_file)"
   ]
  },
  {
   "cell_type": "code",
   "execution_count": 98,
   "id": "dd83486d",
   "metadata": {},
   "outputs": [],
   "source": [
    "input_text =[\"Toy Story_Led by Woody, Andy's toys live happily in his room until Andy's birthday brings Buzz Lightyear onto the scene. Afraid of losing his place in Andy's heart, Woody plots against Buzz. But when circumstances separate Buzz and Woody from their owner, the duo eventually learns to put aside their differences.\"]\n",
    "\n",
    "input_vector = tfidf_vectorizer.transform(input_text).toarray()"
   ]
  },
  {
   "cell_type": "code",
   "execution_count": 99,
   "id": "9e3c86fa",
   "metadata": {},
   "outputs": [
    {
     "data": {
      "text/plain": [
       "(1, 5000)"
      ]
     },
     "execution_count": 99,
     "metadata": {},
     "output_type": "execute_result"
    }
   ],
   "source": [
    "input_vector.shape"
   ]
  },
  {
   "cell_type": "code",
   "execution_count": 100,
   "id": "7b7cae5e",
   "metadata": {},
   "outputs": [],
   "source": [
    "predicted_probabilities = rf_classifier.predict_proba(input_vector)"
   ]
  },
  {
   "cell_type": "code",
   "execution_count": 101,
   "id": "b023d54e",
   "metadata": {},
   "outputs": [
    {
     "data": {
      "text/plain": [
       "[array([[0.9732, 0.0268]]),\n",
       " array([[0.9812, 0.0188]]),\n",
       " array([[0.95737881, 0.04262119]]),\n",
       " array([[1.]]),\n",
       " array([[1.]]),\n",
       " array([[1.]]),\n",
       " array([[0.8384, 0.1616]]),\n",
       " array([[9.996e-01, 4.000e-04]]),\n",
       " array([[0.9534, 0.0466]]),\n",
       " array([[0.4412, 0.5588]]),\n",
       " array([[0.9174, 0.0826]]),\n",
       " array([[0.9574, 0.0426]]),\n",
       " array([[0.9514, 0.0486]]),\n",
       " array([[1.]]),\n",
       " array([[9.998e-01, 2.000e-04]]),\n",
       " array([[0.9968, 0.0032]]),\n",
       " array([[1.]]),\n",
       " array([[0.9328, 0.0672]]),\n",
       " array([[0.9968, 0.0032]]),\n",
       " array([[1.]]),\n",
       " array([[1.]]),\n",
       " array([[1.]]),\n",
       " array([[0.444, 0.556]]),\n",
       " array([[0.9954, 0.0046]]),\n",
       " array([[1.]]),\n",
       " array([[0.9954, 0.0046]]),\n",
       " array([[1.]]),\n",
       " array([[1.]]),\n",
       " array([[0.9888, 0.0112]]),\n",
       " array([[1.]]),\n",
       " array([[1.]]),\n",
       " array([[1.]])]"
      ]
     },
     "execution_count": 101,
     "metadata": {},
     "output_type": "execute_result"
    }
   ],
   "source": [
    "predicted_probabilities"
   ]
  },
  {
   "cell_type": "code",
   "execution_count": 60,
   "id": "7651851f",
   "metadata": {},
   "outputs": [
    {
     "ename": "ValueError",
     "evalue": "could not broadcast input array from shape (2,) into shape (1,)",
     "output_type": "error",
     "traceback": [
      "\u001b[0;31m---------------------------------------------------------------------------\u001b[0m",
      "\u001b[0;31mValueError\u001b[0m                                Traceback (most recent call last)",
      "Cell \u001b[0;32mIn[60], line 9\u001b[0m\n\u001b[1;32m      6\u001b[0m     \u001b[38;5;28;01mif\u001b[39;00m \u001b[38;5;28mlen\u001b[39m(predicted_probabilities[i][\u001b[38;5;241m0\u001b[39m]) \u001b[38;5;241m==\u001b[39m \u001b[38;5;241m1\u001b[39m:\n\u001b[1;32m      7\u001b[0m         \u001b[38;5;66;03m# If the array has only one element, assume the second element is the complement\u001b[39;00m\n\u001b[1;32m      8\u001b[0m         complement \u001b[38;5;241m=\u001b[39m \u001b[38;5;241m1\u001b[39m \u001b[38;5;241m-\u001b[39m predicted_probabilities[i][\u001b[38;5;241m0\u001b[39m][\u001b[38;5;241m0\u001b[39m]\n\u001b[0;32m----> 9\u001b[0m         predicted_probabilities[i][\u001b[38;5;241m0\u001b[39m] \u001b[38;5;241m=\u001b[39m np\u001b[38;5;241m.\u001b[39marray([predicted_probabilities[i][\u001b[38;5;241m0\u001b[39m][\u001b[38;5;241m0\u001b[39m], complement])\n\u001b[1;32m     11\u001b[0m \u001b[38;5;66;03m# Now all arrays in predicted_probabilities should have two elements\u001b[39;00m\n\u001b[1;32m     12\u001b[0m \u001b[38;5;28mprint\u001b[39m(predicted_probabilities)\n",
      "\u001b[0;31mValueError\u001b[0m: could not broadcast input array from shape (2,) into shape (1,)"
     ]
    }
   ],
   "source": [
    "import numpy as np\n",
    "\n",
    "# Iterate through predicted_probabilities and make sure each array has two elements\n",
    "for i in range(len(predicted_probabilities)):\n",
    "    # Check if the array has only one element\n",
    "    if len(predicted_probabilities[i][0]) == 1:\n",
    "        # If the array has only one element, assume the second element is the complement\n",
    "        complement = 1 - predicted_probabilities[i][0][0]\n",
    "        predicted_probabilities[i][0] = np.array([predicted_probabilities[i][0][0], complement])\n",
    "\n",
    "# Now all arrays in predicted_probabilities should have two elements\n",
    "print(predicted_probabilities)\n",
    "\n"
   ]
  },
  {
   "cell_type": "code",
   "execution_count": 83,
   "id": "57bd8305",
   "metadata": {},
   "outputs": [],
   "source": [
    "new=list()\n",
    "for i in range(len(predicted_probabilities)):\n",
    "    \n",
    "    new.append(1-predicted_probabilities[i][0][0])\n",
    "treshold=.3\n",
    "pred=list()\n",
    "for i in new:\n",
    "    if i >= treshold:\n",
    "        pred.append(1)\n",
    "    else:\n",
    "        pred.append(0)\n"
   ]
  },
  {
   "cell_type": "code",
   "execution_count": 84,
   "id": "152eac30",
   "metadata": {},
   "outputs": [],
   "source": [
    "l=np.array([pred])\n",
    "predicted_labels_text = mlb.inverse_transform(l)"
   ]
  },
  {
   "cell_type": "code",
   "execution_count": 85,
   "id": "d3c5d469",
   "metadata": {},
   "outputs": [
    {
     "data": {
      "text/plain": [
       "[('Drama', 'Romance')]"
      ]
     },
     "execution_count": 85,
     "metadata": {},
     "output_type": "execute_result"
    }
   ],
   "source": [
    "predicted_labels_text"
   ]
  },
  {
   "cell_type": "code",
   "execution_count": 96,
   "id": "de665e5f",
   "metadata": {},
   "outputs": [],
   "source": [
    "data.to_csv('out.csv')  "
   ]
  },
  {
   "cell_type": "code",
   "execution_count": null,
   "id": "9d9954a6",
   "metadata": {},
   "outputs": [],
   "source": []
  },
  {
   "cell_type": "code",
   "execution_count": 102,
   "id": "7373a5ab",
   "metadata": {},
   "outputs": [
    {
     "name": "stdout",
     "output_type": "stream",
     "text": [
      "Toy Story_Led by Woody, Andy's toys live happily in his room until Andy's birthday brings Buzz Lightyear onto the scene. Afraid of losing his place in Andy's heart, Woody plots against Buzz. But when circumstances separate Buzz and Woody from their owner, the duo eventually learns to put aside their differences.\n",
      "<class 'list'>\n"
     ]
    }
   ],
   "source": [
    "print(data['full_text'][0])\n",
    "print(type(data['new'][0]))"
   ]
  },
  {
   "cell_type": "code",
   "execution_count": 105,
   "id": "65ff707c",
   "metadata": {},
   "outputs": [
    {
     "data": {
      "text/plain": [
       "'Animation'"
      ]
     },
     "execution_count": 105,
     "metadata": {},
     "output_type": "execute_result"
    }
   ],
   "source": [
    "data['new'][0][0]"
   ]
  },
  {
   "cell_type": "code",
   "execution_count": null,
   "id": "7b32c368",
   "metadata": {},
   "outputs": [],
   "source": []
  }
 ],
 "metadata": {
  "kernelspec": {
   "display_name": "Python 3 (ipykernel)",
   "language": "python",
   "name": "python3"
  },
  "language_info": {
   "codemirror_mode": {
    "name": "ipython",
    "version": 3
   },
   "file_extension": ".py",
   "mimetype": "text/x-python",
   "name": "python",
   "nbconvert_exporter": "python",
   "pygments_lexer": "ipython3",
   "version": "3.11.5"
  }
 },
 "nbformat": 4,
 "nbformat_minor": 5
}
