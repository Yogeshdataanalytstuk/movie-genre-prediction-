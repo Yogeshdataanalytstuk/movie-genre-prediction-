{
 "cells": [
  {
   "cell_type": "code",
   "execution_count": null,
   "id": "f32711b2",
   "metadata": {},
   "outputs": [
    {
     "name": "stdout",
     "output_type": "stream",
     "text": [
      " * Serving Flask app '__main__'\n",
      " * Debug mode: off\n"
     ]
    },
    {
     "name": "stderr",
     "output_type": "stream",
     "text": [
      "WARNING: This is a development server. Do not use it in a production deployment. Use a production WSGI server instead.\n",
      " * Running on http://127.0.0.1:5000\n",
      "Press CTRL+C to quit\n",
      "127.0.0.1 - - [23/Oct/2023 20:20:31] \"GET / HTTP/1.1\" 200 -\n",
      "127.0.0.1 - - [23/Oct/2023 20:23:06] \"POST /predict HTTP/1.1\" 200 -\n"
     ]
    },
    {
     "name": "stdout",
     "output_type": "stream",
     "text": [
      "{'movie_name': 'Leo', 'description': 'Parthiban is a mild mannered cafe owner in Kashmir, who he fends off a gang of murderous thugs, and gains attention from a drug cartel claiming he was once a part of them.', 'prediction': \"[('Action', 'Crime', 'Drama')]\"}\n"
     ]
    },
    {
     "name": "stderr",
     "output_type": "stream",
     "text": [
      "127.0.0.1 - - [23/Oct/2023 20:23:50] \"GET / HTTP/1.1\" 200 -\n",
      "127.0.0.1 - - [23/Oct/2023 20:23:56] \"POST /predict HTTP/1.1\" 200 -\n"
     ]
    },
    {
     "name": "stdout",
     "output_type": "stream",
     "text": [
      "{'movie_name': 'Leo', 'description': 'Parthiban is a mild mannered cafe owner in Kashmir, who he fends off a gang of murderous thugs, and gains attention from a drug cartel claiming he was once a part of them.', 'prediction': \"[('Action', 'Crime', 'Drama')]\"}\n",
      "{'movie_name': 'Vikram', 'description': ' A special investigator assigned a case of serial killings discovers the case is not what it seems to be, and leading down this path is only going to end in a war between everyone involved.', 'prediction': \"[('Drama', 'Thriller')]\"}\n"
     ]
    },
    {
     "name": "stderr",
     "output_type": "stream",
     "text": [
      "127.0.0.1 - - [23/Oct/2023 20:24:40] \"GET / HTTP/1.1\" 200 -\n",
      "127.0.0.1 - - [23/Oct/2023 20:26:47] \"POST /predict HTTP/1.1\" 200 -\n"
     ]
    },
    {
     "name": "stdout",
     "output_type": "stream",
     "text": [
      "{'movie_name': 'Leo', 'description': 'Parthiban is a mild mannered cafe owner in Kashmir, who he fends off a gang of murderous thugs, and gains attention from a drug cartel claiming he was once a part of them.', 'prediction': \"[('Action', 'Crime', 'Drama')]\"}\n",
      "{'movie_name': 'Vikram', 'description': ' A special investigator assigned a case of serial killings discovers the case is not what it seems to be, and leading down this path is only going to end in a war between everyone involved.', 'prediction': \"[('Drama', 'Thriller')]\"}\n",
      "{'movie_name': 'Leo', 'description': 'A special investigator assigned a case of serial killings discovers the case is not what it seems to be, and leading down this path is only going to end in a war between everyone involved.', 'prediction': \"[('Drama', 'Thriller')]\"}\n"
     ]
    },
    {
     "name": "stderr",
     "output_type": "stream",
     "text": [
      "127.0.0.1 - - [23/Oct/2023 20:32:47] \"GET / HTTP/1.1\" 200 -\n",
      "127.0.0.1 - - [23/Oct/2023 20:32:55] \"GET /predict HTTP/1.1\" 405 -\n",
      "127.0.0.1 - - [23/Oct/2023 20:33:04] \"GET /predict HTTP/1.1\" 405 -\n",
      "127.0.0.1 - - [23/Oct/2023 20:33:11] \"GET / HTTP/1.1\" 200 -\n"
     ]
    }
   ],
   "source": [
    "from flask import Flask, render_template, request\n",
    "import pickle\n",
    "import csv\n",
    "import numpy as np\n",
    "import pandas as pd\n",
    "import warnings\n",
    "warnings.filterwarnings(\"ignore\")\n",
    "\n",
    "app = Flask(__name__)\n",
    "\n",
    "# Dummy data for movie predictions (replace this with your actual prediction logic)\n",
    "movie_predictions = []\n",
    "\n",
    "with open('tfidf_vectorizer.pkl', 'rb') as vectorizer_file:\n",
    "    tfidf_vectorizer = pickle.load(vectorizer_file)\n",
    "with open('mlb.pkl', 'rb') as mlb_file:\n",
    "    mlb = pickle.load(mlb_file)\n",
    "\n",
    "with open('random_forest_classifier.pkl', 'rb') as classifier_file:\n",
    "    rf_classifier = pickle.load(classifier_file)\n",
    "    \n",
    "@app.route('/')\n",
    "def index():\n",
    "    return render_template('index.html')\n",
    "\n",
    "@app.route('/predict', methods=['POST'])\n",
    "def predict():\n",
    "    # Get movie name and description from the form\n",
    "    movie_name = request.form['movie_name']\n",
    "    movie_description = request.form['movie_description']\n",
    "    movie_name=f\"{movie_name}\"\n",
    "    movie_description=f\"{movie_description}\"\n",
    "    \n",
    "    input_text = [movie_description]\n",
    "    input_vector = tfidf_vectorizer.transform(input_text).toarray()\n",
    "    predicted_probabilities = rf_classifier.predict_proba(input_vector)\n",
    "    \n",
    "    new=list()\n",
    "    for i in range(len(predicted_probabilities)):\n",
    "\n",
    "        new.append(1-predicted_probabilities[i][0][0])\n",
    "    treshold=.24\n",
    "    pred=list()\n",
    "    for i in new:\n",
    "        if i >= treshold:\n",
    "            pred.append(1)\n",
    "        else:\n",
    "            pred.append(0)\n",
    "    l=np.array([pred])\n",
    "    predicted_labels_text = mlb.inverse_transform(l)\n",
    "\n",
    "    \n",
    "    # Dummy prediction logic (replace this with your actual prediction logic)\n",
    "    prediction_label = predicted_labels_text  # Example prediction label\n",
    "    \n",
    "    # Store the prediction result\n",
    "    movie_predictions.append({'name': movie_name, 'description': movie_description, 'prediction': prediction_label})\n",
    "    with open('Feedback.csv', 'a', newline='') as csvfile:\n",
    "        fieldnames = ['name', 'description', 'prediction']\n",
    "        writer = csv.DictWriter(csvfile, fieldnames=fieldnames)\n",
    "        writer.writerow({'name': movie_name, 'description': movie_description, 'prediction': prediction_label})\n",
    "    feedback_data = []\n",
    "    with open('Feedback.csv', 'r') as csvfile:\n",
    "        reader = csv.DictReader(csvfile)\n",
    "        for row in reader:\n",
    "            print(row)\n",
    "            feedback_data.append(row)\n",
    "    \n",
    "    \n",
    "    \n",
    "\n",
    "    return render_template('result.html', predictions=feedback_data)\n",
    "\n",
    "if __name__ == '__main__':\n",
    "    app.run()\n"
   ]
  },
  {
   "cell_type": "code",
   "execution_count": null,
   "id": "9a77251c",
   "metadata": {},
   "outputs": [],
   "source": []
  },
  {
   "cell_type": "code",
   "execution_count": null,
   "id": "9953be3a",
   "metadata": {},
   "outputs": [],
   "source": []
  }
 ],
 "metadata": {
  "kernelspec": {
   "display_name": "Python 3 (ipykernel)",
   "language": "python",
   "name": "python3"
  },
  "language_info": {
   "codemirror_mode": {
    "name": "ipython",
    "version": 3
   },
   "file_extension": ".py",
   "mimetype": "text/x-python",
   "name": "python",
   "nbconvert_exporter": "python",
   "pygments_lexer": "ipython3",
   "version": "3.11.5"
  }
 },
 "nbformat": 4,
 "nbformat_minor": 5
}
